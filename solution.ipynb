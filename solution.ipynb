{
 "cells": [
  {
   "cell_type": "code",
   "execution_count": null,
   "metadata": {},
   "outputs": [],
   "source": [
    "import pandas as pd\n",
    "import numpy as np"
   ]
  },
  {
   "cell_type": "code",
   "execution_count": null,
   "metadata": {},
   "outputs": [],
   "source": [
    "df=pd.read_csv(\"https://raw.githubusercontent.com/Nithish0226/Suduko-yesh/main/yeswanth.csv\")"
   ]
  },
  {
   "cell_type": "code",
   "execution_count": null,
   "metadata": {},
   "outputs": [],
   "source": [
    "df1=df"
   ]
  },
  {
   "cell_type": "code",
   "execution_count": null,
   "metadata": {},
   "outputs": [],
   "source": [
    "df"
   ]
  },
  {
   "cell_type": "code",
   "execution_count": null,
   "metadata": {},
   "outputs": [],
   "source": [
    "df.loc[15]"
   ]
  },
  {
   "cell_type": "code",
   "execution_count": null,
   "metadata": {},
   "outputs": [],
   "source": [
    "#df1=df1.drop(\"X_Ray_TOTAL\",axis=\"columns\")"
   ]
  },
  {
   "cell_type": "code",
   "execution_count": null,
   "metadata": {},
   "outputs": [],
   "source": [
    "df1"
   ]
  },
  {
   "cell_type": "code",
   "execution_count": null,
   "metadata": {},
   "outputs": [],
   "source": [
    "#df1=df1.drop(15,axis=0)"
   ]
  },
  {
   "cell_type": "code",
   "execution_count": null,
   "metadata": {},
   "outputs": [],
   "source": [
    "df1"
   ]
  },
  {
   "cell_type": "code",
   "execution_count": null,
   "metadata": {},
   "outputs": [],
   "source": [
    "df1=df1.drop(\"Country\",axis=1)"
   ]
  },
  {
   "cell_type": "code",
   "execution_count": null,
   "metadata": {},
   "outputs": [],
   "source": [
    "df1"
   ]
  },
  {
   "cell_type": "code",
   "execution_count": null,
   "metadata": {},
   "outputs": [],
   "source": [
    "arr=df1.to_numpy()"
   ]
  },
  {
   "cell_type": "code",
   "execution_count": null,
   "metadata": {},
   "outputs": [],
   "source": [
    "arr"
   ]
  },
  {
   "cell_type": "code",
   "execution_count": null,
   "metadata": {},
   "outputs": [],
   "source": [
    "row,col =arr.shape\n",
    "print(\"row : \",row,\"col : \",col)"
   ]
  },
  {
   "cell_type": "code",
   "execution_count": null,
   "metadata": {},
   "outputs": [],
   "source": [
    "row_total = arr[:,5]\n",
    "col_total = arr[15]"
   ]
  },
  {
   "cell_type": "code",
   "execution_count": null,
   "metadata": {},
   "outputs": [],
   "source": [
    "print(row_total)\n",
    "print(col_total)"
   ]
  },
  {
   "cell_type": "code",
   "execution_count": null,
   "metadata": {},
   "outputs": [],
   "source": [
    "numberOfUnknows=0"
   ]
  },
  {
   "cell_type": "code",
   "execution_count": null,
   "metadata": {},
   "outputs": [],
   "source": [
    "for i in range(row):\n",
    "        for j in range(col):\n",
    "            if arr[i][j] == \"CONF\":\n",
    "                numberOfUnknows = numberOfUnknows +1\n",
    "                arr[i][j]= \"C\"+str(numberOfUnknows)"
   ]
  },
  {
   "cell_type": "code",
   "execution_count": null,
   "metadata": {},
   "outputs": [],
   "source": [
    "numberOfUnknows"
   ]
  },
  {
   "cell_type": "code",
   "execution_count": null,
   "metadata": {},
   "outputs": [],
   "source": [
    "arr"
   ]
  },
  {
   "cell_type": "code",
   "execution_count": null,
   "metadata": {},
   "outputs": [],
   "source": [
    "def sum_row_1(r11):\n",
    "    sum=0\n",
    "    for i in range(col-1):\n",
    "        try:\n",
    "            sum=r11[i]+sum\n",
    "        except:\n",
    "            sum=sum\n",
    "    return sum\n",
    "def sum_row(r1):\n",
    "    ro=r1\n",
    "    for i in range(col):\n",
    "        ce=r1[i]\n",
    "        try:\n",
    "            #print(int(ce))\n",
    "            ro[i]=int(ce)\n",
    "        except:\n",
    "            ce=ce.replace(',','')\n",
    "            try:\n",
    "                #print(int(ce))\n",
    "                ro[i]=int(ce)\n",
    "            except:\n",
    "                #print(ce,\"Str\")\n",
    "                ro[i]=ce\n",
    "    sum_out=sum_row_1(ro)\n",
    "    ro= np.append(ro,sum_out)\n",
    "    return ro\n",
    "\n",
    "samRow=[266, 'C8', '1,547', '689', 'C9', '2,962']\n",
    "out=sum_row(samRow)\n",
    "#print(out)"
   ]
  },
  {
   "cell_type": "code",
   "execution_count": null,
   "metadata": {},
   "outputs": [],
   "source": [
    "def sum_col_1(c11):\n",
    "    sum=0\n",
    "    for i in range(row-1):\n",
    "        try:\n",
    "            sum=c11[i]+sum\n",
    "        except:\n",
    "            sum=sum\n",
    "    return sum\n",
    "def sum_col(c1):\n",
    "    c0=c1\n",
    "    for i in range(row):\n",
    "        re=c1[i]\n",
    "        try:\n",
    "            c0[i]=int(re)\n",
    "        except:\n",
    "            re=re.replace(',','')\n",
    "            try:\n",
    "                c0[i]=int(re)\n",
    "            except:\n",
    "                c0[i]=re\n",
    "    #print(c0)\n",
    "    sum=sum_col_1(c0)\n",
    "    #print(sum)\n",
    "    c0= np.append(c0,sum)\n",
    "    return c0\n",
    "#print(arr[:,2])\n",
    "samCol=[0, 0, 0, 0, 0, 'C2', 0, 'C4', 0, 0, 'C7', 1547, 0, 0, 0, 1827]\n",
    "out=sum_col(samCol)\n",
    "#print(out)"
   ]
  },
  {
   "cell_type": "code",
   "execution_count": null,
   "metadata": {},
   "outputs": [],
   "source": [
    "print(sum_row(arr[1]))\n",
    "print(sum_col(arr[:,2]))"
   ]
  },
  {
   "cell_type": "code",
   "execution_count": null,
   "metadata": {},
   "outputs": [],
   "source": [
    "for i in range (row):\n",
    "    print(sum_row(arr[i]))\n",
    "for i in range (col):\n",
    "    print(sum_col(arr[:,i]))"
   ]
  },
  {
   "cell_type": "code",
   "execution_count": null,
   "metadata": {},
   "outputs": [],
   "source": [
    "arr1=arr.copy()"
   ]
  },
  {
   "cell_type": "code",
   "execution_count": null,
   "metadata": {},
   "outputs": [],
   "source": [
    "arr5=arr.copy()"
   ]
  },
  {
   "cell_type": "code",
   "execution_count": null,
   "metadata": {},
   "outputs": [],
   "source": [
    "arr1"
   ]
  },
  {
   "cell_type": "code",
   "execution_count": null,
   "metadata": {},
   "outputs": [],
   "source": [
    "def find(ar):\n",
    "    flag=0\n",
    "    for i in range(row):\n",
    "        #print(ar[i])\n",
    "        sr=sum_row(ar[i])\n",
    "        #print(sr)\n",
    "        fsr=sr[col]\n",
    "        #print(fsr)\n",
    "        asr=sr[col-1]\n",
    "        #print(asr)\n",
    "        #print(fsr,asr)\n",
    "        if asr!=fsr:\n",
    "            flag =1\n",
    "    for i in range(col):\n",
    "        #print(ar[:,i])\n",
    "        sc=sum_col(ar[:,i])\n",
    "        #print(sc)\n",
    "        fsc=sc[row]\n",
    "        asc=sc[row-1]\n",
    "        #print(fsc,asc)\n",
    "        if fsc!=asc:\n",
    "            flag =1\n",
    "\n",
    "    if flag == 0:\n",
    "        return ar\n",
    "    else:\n",
    "        return 0\n",
    "find(arr)"
   ]
  },
  {
   "cell_type": "code",
   "execution_count": null,
   "metadata": {},
   "outputs": [],
   "source": [
    "arr5"
   ]
  },
  {
   "cell_type": "code",
   "execution_count": null,
   "metadata": {},
   "outputs": [],
   "source": [
    "def assign(vUk):\n",
    "    #print(vUk)\n",
    "    arr3=arr5.copy()\n",
    "    #print(arr3)\n",
    "    cvar=1\n",
    "    for i in range(row):\n",
    "        for j in range(col):\n",
    "            c=\"C\"+str(cvar)\n",
    "            if arr3[i][j]==c:\n",
    "                arr3[i][j]=vUk[cvar-1]\n",
    "                cvar=cvar+1\n",
    "                #print(arr1[i][j])\n",
    "    #print(arr3)\n",
    "    a=find(arr3)\n",
    "    #print(a)\n",
    "    try:\n",
    "        if a==0:\n",
    "            return 0\n",
    "    except:\n",
    "        return a\n",
    "   \n",
    "#vUk=[185, 190, 190, -248, 286, 339, 338, 230, 230]\n",
    "\n",
    "#assign(vUk)"
   ]
  },
  {
   "cell_type": "code",
   "execution_count": null,
   "metadata": {},
   "outputs": [],
   "source": [
    "cArr=[]\n",
    "nou = numberOfUnknows\n",
    "ran=arr[row-1,col-1]+1\n",
    "ran1=0-ran\n",
    "for i in range(nou):\n",
    "    cArr.append(0)\n",
    "\n",
    "for i1 in  range(ran1,ran):\n",
    "    for i2 in  range(ran1,ran):\n",
    "        for i3 in  range(ran1,ran):\n",
    "            for i4 in  range(ran1,ran):\n",
    "                for i5 in  range(ran1,ran):\n",
    "                    for i6 in  range(ran1,ran):\n",
    "                        for i7 in  range(ran1,ran):\n",
    "                            for i8 in  range(ran1,ran):\n",
    "                                for i9 in  range(ran1,ran):\n",
    "                                    \n",
    "                                    cArr[0]=i1\n",
    "                                    cArr[1]=i2\n",
    "                                    cArr[2]=i3\n",
    "                                    cArr[3]=i4\n",
    "                                    cArr[4]=i5\n",
    "                                    cArr[5]=i6\n",
    "                                    cArr[6]=i7\n",
    "                                    cArr[7]=i8\n",
    "                                    cArr[8]=i9\n",
    "                        \n",
    "                                    \n",
    "                                    print(cArr)\n",
    "                                    out=assign(cArr)\n",
    "                          \n",
    "                                    try:        \n",
    "                                        if out==0:\n",
    "                                            continue\n",
    "                                        else:\n",
    "                                            print(out)\n",
    "\n",
    "                                    except:\n",
    "                                        print(out)"
   ]
  },
  {
   "cell_type": "markdown",
   "metadata": {},
   "source": [
    "cArr=[]\n",
    "nou=numberOfUnknows\n",
    "for i in range(nou):\n",
    "    cArr.append(0)\n",
    "ran=arr[row-1,col-1]+1\n",
    "ran1=0-ran\n",
    "for i in range(ran1,ran):\n",
    "    for j in range(nou):\n",
    "        for k in range(ran1,ran):\n",
    "            cArr[j]=k\n",
    "            print(cArr)\n",
    "            out=assign(cArr)\n",
    "            try:        \n",
    "                if out==0:\n",
    "                    continue\n",
    "                else:\n",
    "                    print(out)\n",
    "\n",
    "            except:\n",
    "                print(out)\n"
   ]
  }
 ],
 "metadata": {
  "interpreter": {
   "hash": "e03f9302815a2d04c91a316952461e23d493cfe613379b29e89de2aa64b0a6d8"
  },
  "kernelspec": {
   "display_name": "Python 3 (ipykernel)",
   "language": "python",
   "name": "python3"
  },
  "language_info": {
   "codemirror_mode": {
    "name": "ipython",
    "version": 3
   },
   "file_extension": ".py",
   "mimetype": "text/x-python",
   "name": "python",
   "nbconvert_exporter": "python",
   "pygments_lexer": "ipython3",
   "version": "3.10.4"
  }
 },
 "nbformat": 4,
 "nbformat_minor": 2
}
